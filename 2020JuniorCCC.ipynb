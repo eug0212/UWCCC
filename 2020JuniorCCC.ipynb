{
  "nbformat": 4,
  "nbformat_minor": 0,
  "metadata": {
    "colab": {
      "name": "2020JuniorCCC.ipynb",
      "provenance": [],
      "authorship_tag": "ABX9TyNoMT4+d5LlsBSBl6R6920d",
      "include_colab_link": true
    },
    "kernelspec": {
      "name": "python3",
      "display_name": "Python 3"
    },
    "language_info": {
      "name": "python"
    }
  },
  "cells": [
    {
      "cell_type": "markdown",
      "metadata": {
        "id": "view-in-github",
        "colab_type": "text"
      },
      "source": [
        "<a href=\"https://colab.research.google.com/github/eug0212/UWCCC/blob/main/2020JuniorCCC.ipynb\" target=\"_parent\"><img src=\"https://colab.research.google.com/assets/colab-badge.svg\" alt=\"Open In Colab\"/></a>"
      ]
    },
    {
      "cell_type": "code",
      "metadata": {
        "id": "LOkN7X-l3Eny"
      },
      "source": [
        "# Problem Description\n",
        "# Barley the dog loves treats. At the end of the day he is either happy or sad depending on the\n",
        "# number and size of treats he receives throughout the day. The treats come in three sizes: small,\n",
        "# medium, and large. His happiness score can be measured using the following formula:\n",
        "# 1 × S + 2 × M + 3 × L\n",
        "# where S is the number of small treats, M is the number of medium treats and L is the number of\n",
        "# large treats.\n",
        "# If Barley’s happiness score is 10 or greater then he is happy. Otherwise, he is sad. Determine\n",
        "# whether Barley is happy or sad at the end of the day.\n",
        "# Input Specification\n",
        "# There are three lines of input. Each line contains a non-negative integer less than 10. The first line\n",
        "# contains the number of small treats, S, the second line contains the number of medium treats, M,\n",
        "# and the third line contains the number of large treats, L, that Barley receives in a day.\n",
        "# Output Specification\n",
        "# If Barley’s happiness score is 10 or greater, output happy. Otherwise, output sad.\n",
        "# Sample Input 1\n",
        "# 3\n",
        "# 1\n",
        "# 0\n",
        "# Output for Sample Input 1\n",
        "# sad\n",
        "# Explanation of Output for Sample Input 1\n",
        "# Barley’s happiness score is 1 × 3 + 2 × 1 + 3 × 0 = 5, so he will be sad.\n",
        "# Sample Input 2\n",
        "# 3\n",
        "# 2\n",
        "# 1\n",
        "# Output for Sample Input 2\n",
        "# happy\n",
        "# Explanation of Output for Sample Input 2\n",
        "# Barley’s happiness score is 1 × 3 + 2 × 2 + 3 × 1 = 10, so he will be happy.    "
      ],
      "execution_count": null,
      "outputs": []
    },
    {
      "cell_type": "code",
      "metadata": {
        "id": "1l39pn__bGhk"
      },
      "source": [
        "def dog_treats(small, medium, large):\n",
        "  sum = int(small) + int(medium)*2 + int(large)*3\n",
        "  if sum >=10:\n",
        "    return \"happy\"\n",
        "  else:\n",
        "    return (\"sad\")"
      ],
      "execution_count": null,
      "outputs": []
    },
    {
      "cell_type": "code",
      "metadata": {
        "colab": {
          "base_uri": "https://localhost:8080/",
          "height": 35
        },
        "id": "MgBKlMGEbhoO",
        "outputId": "5dd5abc2-55cb-4827-e521-e8285c6787f3"
      },
      "source": [
        "dog_treats(3,1,3)"
      ],
      "execution_count": null,
      "outputs": [
        {
          "output_type": "execute_result",
          "data": {
            "application/vnd.google.colaboratory.intrinsic+json": {
              "type": "string"
            },
            "text/plain": [
              "'happy'"
            ]
          },
          "metadata": {
            "tags": []
          },
          "execution_count": 4
        }
      ]
    },
    {
      "cell_type": "code",
      "metadata": {
        "id": "NzGfUWr5ckhA"
      },
      "source": [
        "# Problem Description\n",
        "# People who study epidemiology use models to analyze the spread of disease. In this problem, we\n",
        "# use a simple model.\n",
        "# When a person has a disease, they infect exactly R other people but only on the very next day. No\n",
        "# person is infected more than once. We want to determine when a total of more than P people have\n",
        "# had the disease.\n",
        "\n",
        "# Input Specification\n",
        "# There are three lines of input. Each line contains one positive integer. The first line contains the\n",
        "# value of P. The second line contains N, the number of people who have the disease on Day 0. The\n",
        "# third line contains the value of R. Assume that P ≤ 107\n",
        "# and N ≤ P and R ≤ 10.\n",
        "# Output Specification\n",
        "# Output the number of the first day on which the total number of people who have had the disease\n",
        "# is greater than P.\n",
        "# Sample Input 1\n",
        "# 750 - P\n",
        "# 1 - N\n",
        "# 5 - R\n",
        "# Output for Sample Input 1\n",
        "# 4\n",
        "# Explanation of Output for Sample Input 1\n",
        "# The 1 person on Day 0 with the disease infects 5 people on Day 1. On Day 2, exactly 25 people\n",
        "# are infected. On Day 3, exactly 125 people are infected. A total of 1 + 5 + 25 + 125 + 625 = 781\n",
        "# people have had the disease by the end of Day 4 and 781 > 750.\n",
        "# Sample Input 2\n",
        "# 10\n",
        "# 2\n",
        "# 1\n",
        "# Output for Sample Input 2\n",
        "# 5"
      ],
      "execution_count": null,
      "outputs": []
    },
    {
      "cell_type": "code",
      "metadata": {
        "colab": {
          "base_uri": "https://localhost:8080/"
        },
        "id": "l3dHRmPigYV3",
        "outputId": "affee493-bb20-4f5d-ddcf-5750a4f0d1f0"
      },
      "source": [
        "P = int(input())\n",
        "N = int(input())\n",
        "R = int(input())\n",
        "\n",
        "infected = N\n",
        "people = N\n",
        "\n",
        "count = 0\n",
        "while True:\n",
        "    people = people + (infected*R)\n",
        "    infected = infected*R\n",
        "    count += 1\n",
        "    if people >= P:\n",
        "        if people == P:\n",
        "            print(count+1)\n",
        "        else:\n",
        "            print(count)\n",
        "        break"
      ],
      "execution_count": null,
      "outputs": [
        {
          "output_type": "stream",
          "text": [
            "750\n",
            "5\n",
            "1\n",
            "150\n"
          ],
          "name": "stdout"
        }
      ]
    },
    {
      "cell_type": "code",
      "metadata": {
        "id": "JvSxanv5iaT2"
      },
      "source": [
        "def virus(target, initial, spread):\n",
        "  count = 0\n",
        "  total_infected = initial\n",
        "\n",
        "  while target >= total_infected:\n",
        "    total_infected = initial*spread\n",
        "    initial = initial*spread \n",
        "    count += 1\n",
        "  \n",
        "  return count"
      ],
      "execution_count": null,
      "outputs": []
    },
    {
      "cell_type": "code",
      "metadata": {
        "id": "40S3Clxh2dog"
      },
      "source": [
        "virus(750, 5, 1)"
      ],
      "execution_count": null,
      "outputs": []
    },
    {
      "cell_type": "code",
      "metadata": {
        "id": "XKtr3hGQ2FjT"
      },
      "source": [
        "# Problem Description\n",
        "# Mahima has been experimenting with a new style of art. She stands in front of a canvas and, using\n",
        "# her brush, flicks drops of paint onto the canvas. When she thinks she has created a masterpiece,\n",
        "# she uses her 3D printer to print a frame to surround the canvas.\n",
        "# Your job is to help Mahima by determining the coordinates of the smallest possible rectangular\n",
        "# frame such that each drop of paint lies inside the frame. Points on the frame are not considered\n",
        "# inside the frame.\n",
        "# Input Specification\n",
        "# The first line of input contains the number of drops of paint, N, where 2  N  100 and N is an\n",
        "# integer. Each of the next N lines contain exactly two positive integers X and Y separated by one\n",
        "# comma (no spaces). Each of these pairs of integers represents the coordinates of a drop of paint on\n",
        "# the canvas. Assume that X < 100 and Y < 100, and that there will be at least two distinct points.\n",
        "# The coordinates (0, 0) represent the bottom-left corner of the canvas.\n",
        "# For 12 of the 15 available marks, X and Y will both be two-digit integers.\n",
        "# Output Specification\n",
        "# Output two lines. Each line must contain exactly two non-negative integers separated by a single\n",
        "# comma (no spaces). The first line represents the coordinates of the bottom-left corner of the rectangular frame. The second line represents the coordinates of the top-right corner of the rectangular\n",
        "# frame.\n",
        "# Sample Input\n",
        "# 5\n",
        "# 44,62\n",
        "# 34,69\n",
        "# 24,78\n",
        "# 42,44\n",
        "# 64,10\n",
        "# Output for Sample Input\n",
        "# 23,9\n",
        "# 65,79\n",
        "# Explanation of Output for Sample Input\n",
        "# The bottom-left corner of the frame is (23, 9). Notice that if the bottom-left corner is moved up,\n",
        "# the paint drop at (64, 10) will not be inside the frame. (See the diagram on the next page.) If the\n",
        "# corner is moved right, the paint drop at (24, 78) will not be inside the frame. If the corner is moved\n",
        "# down or left, then the frame will be larger and no longer the smallest rectangle containing all the\n",
        "# drops of paint. A similar argument can be made regarding the top-right corner of the frame."
      ],
      "execution_count": null,
      "outputs": []
    },
    {
      "cell_type": "code",
      "metadata": {
        "colab": {
          "base_uri": "https://localhost:8080/"
        },
        "id": "GItIzfW749IE",
        "outputId": "68db62a4-1ceb-4c54-c312-7441c42ee596"
      },
      "source": [
        "n = int(input())\n",
        "\n",
        "valuesX = []\n",
        "valuesY = []\n",
        "\n",
        "for i in range(n):\n",
        "  current_point = input().split(\",\")\n",
        "  valuesX.append(current_point[0])\n",
        "  valuesY.append(current_point[1])\n",
        "\n",
        "x_left_bot_corner = int(min(valuesX)) - 1\n",
        "y_left_bot_corner = int(min(valuesY)) - 1\n",
        "x_right_top_corner = int(max(valuesX)) + 1\n",
        "y_right_top_corner = int(max(valuesY)) + 1\n",
        "\n",
        "print(str(x_left_bot_corner) + \",\" + str(y_left_bot_corner))\n",
        "print(str(x_right_top_corner) + \",\" + str(y_right_top_corner))"
      ],
      "execution_count": null,
      "outputs": [
        {
          "output_type": "stream",
          "text": [
            "5\n",
            "44,62\n",
            "34,69\n",
            "24,78\n",
            "42,44\n",
            "64,10\n",
            "23,9\n",
            "65,79\n"
          ],
          "name": "stdout"
        }
      ]
    },
    {
      "cell_type": "code",
      "metadata": {
        "id": "YT3Q8mlpA3BO"
      },
      "source": [
        "# Problem Description\n",
        "# Thuc likes finding cyclic shifts of strings. A cyclic shift of a string is obtained by moving characters\n",
        "# from the beginning of the string to the end of the string. We also consider a string to be a cyclic\n",
        "# shift of itself. For example, the cyclic shifts of ABCDE are:\n",
        "# ABCDE, BCDEA, CDEAB, DEABC, and EABCD.\n",
        "# Given some text, T, and a string, S, determine if T contains a cyclic shift of S.\n",
        "# Input Specification\n",
        "# The input will consist of exactly two lines containing only uppercase letters. The first line will be\n",
        "# the text T, and the second line will be the string S. Each line will contain at most 1000 characters.\n",
        "# For 6 of the 15 available marks, S will be exactly 3 characters in length.\n",
        "# Output Specification\n",
        "# Output yes if the text, T, contains a cyclic shift of the string, S. Otherwise, output no.\n",
        "# Sample Input 1\n",
        "# ABCCDEABAA\n",
        "# ABCDE\n",
        "# Output for Sample Input 1\n",
        "# yes\n",
        "# Explanation of Output for Sample Input 1\n",
        "# CDEAB is a cyclic shift of ABCDE and it is contained in the text ABCCDEABAA.\n",
        "# Sample Input 2\n",
        "# ABCDDEBCAB\n",
        "# ABA\n",
        "# Output for Sample Input 2\n",
        "# no\n",
        "# Explanation of Output for Sample Input 2\n",
        "# The cyclic shifts of ABA are ABA, BAA, and AAB. None of these shifts are contained in the text\n",
        "# ABCDDEBCAB"
      ],
      "execution_count": null,
      "outputs": []
    },
    {
      "cell_type": "code",
      "metadata": {
        "colab": {
          "base_uri": "https://localhost:8080/",
          "height": 528
        },
        "id": "CwMl6XlMPtLp",
        "outputId": "2025b8d1-a113-4a75-90ba-76e07a4274c0"
      },
      "source": [
        "fixed = input()\n",
        "cycled = input()\n",
        "success = False\n",
        "\n",
        "for i in range(len(cycled)):\n",
        "  first_char = cycled[0]\n",
        "  cycled = cycled + first_char\n",
        "  cycled = cycled[1:]\n",
        "\n",
        "  if cycled in fixed:\n",
        "    success = True\n",
        "    break\n",
        "\n",
        "if success == True:\n",
        "  print(\"yes\")\n",
        "else: print(\"no\")\n",
        "\n"
      ],
      "execution_count": null,
      "outputs": [
        {
          "output_type": "error",
          "ename": "KeyboardInterrupt",
          "evalue": "ignored",
          "traceback": [
            "\u001b[0;31m---------------------------------------------------------------------------\u001b[0m",
            "\u001b[0;31mKeyboardInterrupt\u001b[0m                         Traceback (most recent call last)",
            "\u001b[0;32m/usr/local/lib/python3.7/dist-packages/ipykernel/kernelbase.py\u001b[0m in \u001b[0;36m_input_request\u001b[0;34m(self, prompt, ident, parent, password)\u001b[0m\n\u001b[1;32m    728\u001b[0m             \u001b[0;32mtry\u001b[0m\u001b[0;34m:\u001b[0m\u001b[0;34m\u001b[0m\u001b[0;34m\u001b[0m\u001b[0m\n\u001b[0;32m--> 729\u001b[0;31m                 \u001b[0mident\u001b[0m\u001b[0;34m,\u001b[0m \u001b[0mreply\u001b[0m \u001b[0;34m=\u001b[0m \u001b[0mself\u001b[0m\u001b[0;34m.\u001b[0m\u001b[0msession\u001b[0m\u001b[0;34m.\u001b[0m\u001b[0mrecv\u001b[0m\u001b[0;34m(\u001b[0m\u001b[0mself\u001b[0m\u001b[0;34m.\u001b[0m\u001b[0mstdin_socket\u001b[0m\u001b[0;34m,\u001b[0m \u001b[0;36m0\u001b[0m\u001b[0;34m)\u001b[0m\u001b[0;34m\u001b[0m\u001b[0;34m\u001b[0m\u001b[0m\n\u001b[0m\u001b[1;32m    730\u001b[0m             \u001b[0;32mexcept\u001b[0m \u001b[0mException\u001b[0m\u001b[0;34m:\u001b[0m\u001b[0;34m\u001b[0m\u001b[0;34m\u001b[0m\u001b[0m\n",
            "\u001b[0;32m/usr/local/lib/python3.7/dist-packages/jupyter_client/session.py\u001b[0m in \u001b[0;36mrecv\u001b[0;34m(self, socket, mode, content, copy)\u001b[0m\n\u001b[1;32m    802\u001b[0m         \u001b[0;32mtry\u001b[0m\u001b[0;34m:\u001b[0m\u001b[0;34m\u001b[0m\u001b[0;34m\u001b[0m\u001b[0m\n\u001b[0;32m--> 803\u001b[0;31m             \u001b[0mmsg_list\u001b[0m \u001b[0;34m=\u001b[0m \u001b[0msocket\u001b[0m\u001b[0;34m.\u001b[0m\u001b[0mrecv_multipart\u001b[0m\u001b[0;34m(\u001b[0m\u001b[0mmode\u001b[0m\u001b[0;34m,\u001b[0m \u001b[0mcopy\u001b[0m\u001b[0;34m=\u001b[0m\u001b[0mcopy\u001b[0m\u001b[0;34m)\u001b[0m\u001b[0;34m\u001b[0m\u001b[0;34m\u001b[0m\u001b[0m\n\u001b[0m\u001b[1;32m    804\u001b[0m         \u001b[0;32mexcept\u001b[0m \u001b[0mzmq\u001b[0m\u001b[0;34m.\u001b[0m\u001b[0mZMQError\u001b[0m \u001b[0;32mas\u001b[0m \u001b[0me\u001b[0m\u001b[0;34m:\u001b[0m\u001b[0;34m\u001b[0m\u001b[0;34m\u001b[0m\u001b[0m\n",
            "\u001b[0;32m/usr/local/lib/python3.7/dist-packages/zmq/sugar/socket.py\u001b[0m in \u001b[0;36mrecv_multipart\u001b[0;34m(self, flags, copy, track)\u001b[0m\n\u001b[1;32m    582\u001b[0m         \"\"\"\n\u001b[0;32m--> 583\u001b[0;31m         \u001b[0mparts\u001b[0m \u001b[0;34m=\u001b[0m \u001b[0;34m[\u001b[0m\u001b[0mself\u001b[0m\u001b[0;34m.\u001b[0m\u001b[0mrecv\u001b[0m\u001b[0;34m(\u001b[0m\u001b[0mflags\u001b[0m\u001b[0;34m,\u001b[0m \u001b[0mcopy\u001b[0m\u001b[0;34m=\u001b[0m\u001b[0mcopy\u001b[0m\u001b[0;34m,\u001b[0m \u001b[0mtrack\u001b[0m\u001b[0;34m=\u001b[0m\u001b[0mtrack\u001b[0m\u001b[0;34m)\u001b[0m\u001b[0;34m]\u001b[0m\u001b[0;34m\u001b[0m\u001b[0;34m\u001b[0m\u001b[0m\n\u001b[0m\u001b[1;32m    584\u001b[0m         \u001b[0;31m# have first part already, only loop while more to receive\u001b[0m\u001b[0;34m\u001b[0m\u001b[0;34m\u001b[0m\u001b[0;34m\u001b[0m\u001b[0m\n",
            "\u001b[0;32mzmq/backend/cython/socket.pyx\u001b[0m in \u001b[0;36mzmq.backend.cython.socket.Socket.recv\u001b[0;34m()\u001b[0m\n",
            "\u001b[0;32mzmq/backend/cython/socket.pyx\u001b[0m in \u001b[0;36mzmq.backend.cython.socket.Socket.recv\u001b[0;34m()\u001b[0m\n",
            "\u001b[0;32mzmq/backend/cython/socket.pyx\u001b[0m in \u001b[0;36mzmq.backend.cython.socket._recv_copy\u001b[0;34m()\u001b[0m\n",
            "\u001b[0;32m/usr/local/lib/python3.7/dist-packages/zmq/backend/cython/checkrc.pxd\u001b[0m in \u001b[0;36mzmq.backend.cython.checkrc._check_rc\u001b[0;34m()\u001b[0m\n",
            "\u001b[0;31mKeyboardInterrupt\u001b[0m: ",
            "\nDuring handling of the above exception, another exception occurred:\n",
            "\u001b[0;31mKeyboardInterrupt\u001b[0m                         Traceback (most recent call last)",
            "\u001b[0;32m<ipython-input-3-601c2bcfb5fa>\u001b[0m in \u001b[0;36m<module>\u001b[0;34m()\u001b[0m\n\u001b[0;32m----> 1\u001b[0;31m \u001b[0mfixed\u001b[0m \u001b[0;34m=\u001b[0m \u001b[0minput\u001b[0m\u001b[0;34m(\u001b[0m\u001b[0;34m)\u001b[0m\u001b[0;34m\u001b[0m\u001b[0;34m\u001b[0m\u001b[0m\n\u001b[0m\u001b[1;32m      2\u001b[0m \u001b[0mcycled\u001b[0m \u001b[0;34m=\u001b[0m \u001b[0minput\u001b[0m\u001b[0;34m(\u001b[0m\u001b[0;34m)\u001b[0m\u001b[0;34m\u001b[0m\u001b[0;34m\u001b[0m\u001b[0m\n\u001b[1;32m      3\u001b[0m \u001b[0msuccess\u001b[0m \u001b[0;34m=\u001b[0m \u001b[0;32mFalse\u001b[0m\u001b[0;34m\u001b[0m\u001b[0;34m\u001b[0m\u001b[0m\n\u001b[1;32m      4\u001b[0m \u001b[0;34m\u001b[0m\u001b[0m\n\u001b[1;32m      5\u001b[0m \u001b[0;32mfor\u001b[0m \u001b[0mi\u001b[0m \u001b[0;32min\u001b[0m \u001b[0mrange\u001b[0m\u001b[0;34m(\u001b[0m\u001b[0mlen\u001b[0m\u001b[0;34m(\u001b[0m\u001b[0mcycled\u001b[0m\u001b[0;34m)\u001b[0m\u001b[0;34m)\u001b[0m\u001b[0;34m:\u001b[0m\u001b[0;34m\u001b[0m\u001b[0;34m\u001b[0m\u001b[0m\n",
            "\u001b[0;32m/usr/local/lib/python3.7/dist-packages/ipykernel/kernelbase.py\u001b[0m in \u001b[0;36mraw_input\u001b[0;34m(self, prompt)\u001b[0m\n\u001b[1;32m    702\u001b[0m             \u001b[0mself\u001b[0m\u001b[0;34m.\u001b[0m\u001b[0m_parent_ident\u001b[0m\u001b[0;34m,\u001b[0m\u001b[0;34m\u001b[0m\u001b[0;34m\u001b[0m\u001b[0m\n\u001b[1;32m    703\u001b[0m             \u001b[0mself\u001b[0m\u001b[0;34m.\u001b[0m\u001b[0m_parent_header\u001b[0m\u001b[0;34m,\u001b[0m\u001b[0;34m\u001b[0m\u001b[0;34m\u001b[0m\u001b[0m\n\u001b[0;32m--> 704\u001b[0;31m             \u001b[0mpassword\u001b[0m\u001b[0;34m=\u001b[0m\u001b[0;32mFalse\u001b[0m\u001b[0;34m,\u001b[0m\u001b[0;34m\u001b[0m\u001b[0;34m\u001b[0m\u001b[0m\n\u001b[0m\u001b[1;32m    705\u001b[0m         )\n\u001b[1;32m    706\u001b[0m \u001b[0;34m\u001b[0m\u001b[0m\n",
            "\u001b[0;32m/usr/local/lib/python3.7/dist-packages/ipykernel/kernelbase.py\u001b[0m in \u001b[0;36m_input_request\u001b[0;34m(self, prompt, ident, parent, password)\u001b[0m\n\u001b[1;32m    732\u001b[0m             \u001b[0;32mexcept\u001b[0m \u001b[0mKeyboardInterrupt\u001b[0m\u001b[0;34m:\u001b[0m\u001b[0;34m\u001b[0m\u001b[0;34m\u001b[0m\u001b[0m\n\u001b[1;32m    733\u001b[0m                 \u001b[0;31m# re-raise KeyboardInterrupt, to truncate traceback\u001b[0m\u001b[0;34m\u001b[0m\u001b[0;34m\u001b[0m\u001b[0;34m\u001b[0m\u001b[0m\n\u001b[0;32m--> 734\u001b[0;31m                 \u001b[0;32mraise\u001b[0m \u001b[0mKeyboardInterrupt\u001b[0m\u001b[0;34m\u001b[0m\u001b[0;34m\u001b[0m\u001b[0m\n\u001b[0m\u001b[1;32m    735\u001b[0m             \u001b[0;32melse\u001b[0m\u001b[0;34m:\u001b[0m\u001b[0;34m\u001b[0m\u001b[0;34m\u001b[0m\u001b[0m\n\u001b[1;32m    736\u001b[0m                 \u001b[0;32mbreak\u001b[0m\u001b[0;34m\u001b[0m\u001b[0;34m\u001b[0m\u001b[0m\n",
            "\u001b[0;31mKeyboardInterrupt\u001b[0m: "
          ]
        }
      ]
    },
    {
      "cell_type": "code",
      "metadata": {
        "id": "7TMASasrUnZM"
      },
      "source": [
        "# Problem Description\n",
        "# You have to determine if it is possible to escape from a room. The room is an M-by-N grid with\n",
        "# each position (cell) containing a positive integer. The rows are numbered 1, 2, . . . , M and the\n",
        "# columns are numbered 1, 2, . . . , N. We use (r, c) to refer to the cell in row r and column c.\n",
        "# You start in the top-left corner at (1, 1) and exit from the bottom-right corner at (M, N). If you\n",
        "# are in a cell containing the value x, then you can jump to any cell (a, b) satisfying a × b = x. For\n",
        "# example, if you are in a cell containing a 6, you can jump to cell (2, 3).\n",
        "# Note that from a cell containing a 6, there are up to four cells you can jump to: (2, 3), (3, 2), (1, 6),\n",
        "# or (6, 1). If the room is a 5-by-6 grid, there isn’t a row 6 so only the first three jumps would be\n",
        "# possible.\n",
        "# Input Specification\n",
        "# The first line of the input will be an integer M (1 ≤ M ≤ 1000). The second line of the input will\n",
        "# be an integer N (1 ≤ N ≤ 1000). The remaining input gives the positive integers in the cells of\n",
        "# the room with M rows and N columns. It consists of M lines where each line contains N positive\n",
        "# integers, each less than or equal to 1 000 000, separated by single spaces.\n",
        "# For 1 of the 15 available marks, M = 2 and N = 2.\n",
        "# For an additional 2 of the 15 available marks, M = 1.\n",
        "# For an additional 4 of the 15 available marks, all of the integers in the cells will be unique.\n",
        "# For an additional 4 of the 15 available marks, M ≤ 200 and N ≤ 200.\n",
        "# Output Specification\n",
        "# Output yes if it is possible to escape from the room. Otherwise, output no.\n",
        "# Sample Input\n",
        "# 3\n",
        "# 4\n",
        "# 3 10 8 14\n",
        "# 1 11 12 12\n",
        "# 6 2 3 9\n",
        "# Output for Sample Input\n",
        "# yes\n",
        "# La version franc¸aise figure a la suite de la version anglaise. `\n",
        "# Explanation of Output for Sample Input\n",
        "# Starting in the cell at (1, 1) which contains a 3, one possibility is to jump to the cell at (1, 3).\n",
        "# This cell contains an 8 so from it, you could jump to the cell at (2, 4). This brings you to a cell\n",
        "# containing 12 from which you can jump to the exit at (3, 4). Note that another way to escape is to\n",
        "# jump from the starting cell to the cell at (3, 1) to the cell at (2, 3) to the exit.\n",
        "# Notes\n",
        "# 1. The online grader begins by testing submissions using the sample input. All other tests are\n",
        "# skipped if the sample test is not passed. If you are only attempting the first three subtasks\n",
        "# (the first 7 marks), then you might want to handle the specific values of the sample input as\n",
        "# a special case.\n",
        "# 2. For the final subtask (worth 2 marks), if you are using Java, then Scanner will probably\n",
        "# take too long to read in the large amount of data. A much faster alternative is BufferedReader."
      ],
      "execution_count": null,
      "outputs": []
    },
    {
      "cell_type": "code",
      "metadata": {
        "id": "691xwtRDYcmL"
      },
      "source": [
        ""
      ],
      "execution_count": null,
      "outputs": []
    }
  ]
}